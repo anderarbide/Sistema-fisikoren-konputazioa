{
 "cells": [
  {
   "cell_type": "markdown",
   "metadata": {},
   "source": [
    "# Ising-en eredua\n",
    "\n",
    "Orain arte $Einstein$-en solidoen eredua aztertu dugu. Behin hau egin dugula aztertuko dugu eredu bat zeinetan partikulak beraien artean menpekoak diren. Era honetako eredurik sinpleena $Ising$ eredua da, honek oso erabilgarria da solido ferromagnetikoak aztertzeko. Gainera eredu hau nahiko sinplea denez ondo azaldu eta inplementatu dezakegu $Metropolis$ algoritmoa."
   ]
  },
  {
   "cell_type": "markdown",
   "metadata": {},
   "source": [
    "## 1 dimentsioko Ising eredua\n",
    "\n",
    "Kontsideratuko dugu 1 dimentsioko $Ising$-en eredua, hau N momentu dipolar berdinetan oinarritzen da, spin hauek kate bat osatzen dute. Momentu dipolar(spin) bakoitzak bi egoeretan egon daiteke: gorantz $s_i=1$ edo beherantz $s_i=-1$, beraz bi spinen arteko interakzio energia ondokoa da:\n",
    "$$E_{i,j}=-\\epsilon s_is_j$$\n",
    "Non $\\epsilon$ parekatze energia den. $\\epsilon >0$ bada, interakzio energiak lagunduko ditu spin paraleloak ferromagnetismoa sortuz; $\\epsilon$-en balioa atomoen arteko indarrek zehazten dute. Guk artuko dugu gure analisia egiteko $\\epsilon>0$ eta tratatuko dugu sistema ferromagnetiko baten energi kuanto bezala. Sistemaren energi osoa kalkulatu nahi badugu bikote guztiak kontuan hartu behar ditugu, baina bakirrik kontuan hartuku ditugu ondoz ondoko bikoteak, kontuan hartuz distantzia handiko elkarrekintza ahula dela. Beraz 1D-ko $Ising$-en ereduaren energia osoa ondokoa da:\n",
    "$$E=\\sum\\limits_{i}E_{i,i+1}=-\\epsilon\\sum\\limits_{i=1}^{N}s_is_{i+1}$$\n",
    "Ikusten dugunez $s_{N+1}$ terminoa daukagu definitu gabe dagoena. Bi konponbide ditugu, bat termino hau kendu edo bestela muga baldintza periodikoak erabili. Lehenengo konponbidea ondo dago $N$ oso handia bada. Guk muga baldintza periodikoak erabiliko ditugu:\n",
    "$$s_{N+1}=s_1$$\n",
    "Imaginatu dezakegu muga baldintza hauekin gure katearen amaieran beste identiko bat jarri dugula edo gure katea eraztun bat osatuz jarri dugula."
   ]
  },
  {
   "cell_type": "markdown",
   "metadata": {},
   "source": [
    "## Metropolis simulazioa\n",
    "\n",
    "Gure $Ising$ ereduaren dinamika aztertzeko, gure sistema $T$ tenperatura iturriarekin kontaktuan jarri behar dugu,tenperatura iturrien abantila da beroa hartu eta eman dezaketela beraien tenperatura aldatu gabe. Inolako kalkulorik egin gabe badakigu hasierako egoera bat emanez gure sistemak iturriarekin energia trukatuko du spinen orientazioa aldatuz. Momentu dipolarren biraketa gertatuko da gure sistema orekara heldu arte, gero spin batzuen fluktuazioak gerta daiteke baina energiaren aldaketa oso txikia izango da. Behin hau argi dugula, hurrengo galdera da, nola simulatuko dugu prozesu hau? Egin dezakegu gure kalkulua era zuzenean, eratuz gure ${s_i}$ mikroegoera aleatorioki. Arazoa da, mikroegoeren kopurua handiegia izan daitekela, adibidez $N=1000$ badaukagu mikroegoeren kopurua $2^N\\sim 10^{300}$ dela, beraz metodo hau ez da erabilgarria.\n",
    "Baina irtenbide bat daukagu, $Metropolis$ algoritmoa. Honen funtzionamendua ondokoa da:"
   ]
  },
  {
   "cell_type": "markdown",
   "metadata": {},
   "source": [
    "0. Hasierako ${s_i}$ mikroegoera zehaztu behar dugu. Edozein mikroegora aleatorio balio du, baina komenigarriagoa da egoera hotz batekin hastea, hau da spin paralelo gehiago edukitzea antiparalelo baino.\n",
    "1. Hartu behar dugu edozein $i$ spin eta biratuko dugu gertatutako energia aldaketa($\\Delta E$) neurtuz:\n",
    "$$\\Delta E=E_{bukaeran}-E_{hasieran}=2\\epsilon s_i(s_{i-1}+s_{i+1})$$\n",
    "2. Orain $\\Delta E<0$ bada spinaren biraketa onartuko dugu, kontuan izan prozesu fisikoetan naturak energia baxuko egoerak nahiago dituela, $s_i\\rightarrow s_{-i}$ aldaketa eginez. Bestalde, $x$ zenbaki aleatorio bat hartuko dugu eta $x<exp(-\\Delta E/kT)$ bada baita onartuko dugu biraketa. Hau ez badugu egiten gure sistema 0 energiara joango da zuzenean.\n",
    "3. $2.$ eta $3.$ pausoak errepikatu oreka lortu arte."
   ]
  },
  {
   "cell_type": "markdown",
   "metadata": {},
   "source": [
    "Konturatu $\\epsilon =1$ egin dezakegula informazioa galdu gabe. Behin $Metropolis$ algoritmoa deskribatu dugula funtzio bat egingo dugu hau egiten duena:"
   ]
  },
  {
   "cell_type": "code",
   "execution_count": 1,
   "metadata": {
    "collapsed": true
   },
   "outputs": [],
   "source": [
    "def metropolis(N, spin,kT,E,M):                 #Metropolis algoritmoa\n",
    "    i, flip=rnd.randint(0,N-1),0\n",
    "    dE=2*spin[i]*(spin[i-1]+spin[(i+1)%N])      #24. ekuazioa muga baldintza periodikoak hartuz\n",
    "    if (dE<0.0):\n",
    "        flip=1                                  #biraketa onartu\n",
    "    else:\n",
    "        p=np.exp(-dE/kT)\n",
    "        if (rnd.random()<p):\n",
    "            flip=1\n",
    "    if (flip==1):\n",
    "        E=E+dE                                   #Energia berria biraketa onartu era gero\n",
    "        M=M-2*spin[i]                            #Magnetizazio berria\n",
    "        spin[i]=-spin[i]\n",
    "    return E,M"
   ]
  },
  {
   "cell_type": "markdown",
   "metadata": {},
   "source": [
    "** Programa 6:** Metropolis algoritmoa 1 dimentsioko spin katean."
   ]
  },
  {
   "cell_type": "markdown",
   "metadata": {},
   "source": [
    "Funtzio hau $Metropolis$ algoritmoa burutzen du, beraz hau beste programa batean implementatu dezakegu gure 1 dimentsioko ferromagnetikoaren konportamoldea ikusteko."
   ]
  },
  {
   "cell_type": "code",
   "execution_count": 2,
   "metadata": {},
   "outputs": [
    {
     "data": {
      "image/png": "[encoded data removed]",
      "text/plain": [
       "<matplotlib.figure.Figure at 0x5c02df0>"
      ]
     },
     "metadata": {},
     "output_type": "display_data"
    }
   ],
   "source": [
    "import random as rnd\n",
    "import numpy as np\n",
    "import matplotlib.pyplot as plt\n",
    "\n",
    "def hasiera(N):\n",
    "    p,spin,E,M=0.5,[1]*N,-0.6,0.\n",
    "    for i in range(1,N):\n",
    "        if (rnd.random()<p):\n",
    "            spin[i]=-1\n",
    "        E=E-spin[i-1]*spin[i]\n",
    "        M=M+spin[i]\n",
    "    return spin,E-spin[N-1]*spin[0],M+spin[0]\n",
    "\n",
    "N,pausuak=1000,10\n",
    "iterak,Nmc=N*pausuak,N*pausuak\n",
    "E1=[]\n",
    "iterazio=[]\n",
    "kT=1.0\n",
    "spin,E,M=hasiera(N)\n",
    "\n",
    "for k in range(iterak):\n",
    "    E1.append(E/N)\n",
    "    iterazio.append(k/N)\n",
    "    E,M=metropolis(N,spin,kT,E,M)\n",
    "kT=2.0\n",
    "E2=[]\n",
    "spin,E,M=hasiera(N)\n",
    "for k in range(iterak):\n",
    "    E2.append(E/N)\n",
    "    E,M=metropolis(N,spin,kT,E,M)\n",
    "plt.figure()\n",
    "plt.plot(iterazio,E1,'o',iterazio,E2)\n",
    "plt.xlabel('Iterazio/N')\n",
    "plt.ylabel('Energia/N')\n",
    "plt.show()"
   ]
  },
  {
   "cell_type": "markdown",
   "metadata": {},
   "source": [
    "**Programa7:** Spinen kate baten oreka."
   ]
  },
  {
   "cell_type": "markdown",
   "metadata": {},
   "source": [
    "Behin gure sistemaren oreka lortu dugula, orekako gorabeherak aztertu ditzakegu. $Monte$ $Carlo$ $Metropolis$ simulazioan oso erraz kalkulkulatu ditzakegu batezbestekoak, adibidez enegiaren eta magnetizazioaren batezbestekoak honela kalkulatzen dira:\n",
    "$$\\langle E \\rangle=\\dfrac{1}{N}\\sum\\limits_{n=1}^{N}E(n)$$\n",
    "$$\\langle M \\rangle=\\dfrac{1}{N}\\sum\\limits_{n=1}^{N}M(n)$$\n",
    "Non $E(n)$ n. mikroegoeraren energia eta $M(n)$ magnetizazioa, hau da spin totala, diren.Beraz hau ondorengo programan ordezkatuz bi hauen itxura lortu dezakegu:"
   ]
  },
  {
   "cell_type": "code",
   "execution_count": 4,
   "metadata": {},
   "outputs": [
    {
     "data": {
      "image/png": "[encoded data removed]",
      "text/plain": [
       "<matplotlib.figure.Figure at 0x7854770>"
      ]
     },
     "metadata": {},
     "output_type": "display_data"
    },
    {
     "data": {
      "image/png": "[encoded data removed]",
      "text/plain": [
       "<matplotlib.figure.Figure at 0x78f5d50>"
      ]
     },
     "metadata": {},
     "output_type": "display_data"
    }
   ],
   "source": [
    "import random as rnd\n",
    "import numpy as np\n",
    "import matplotlib.pyplot as plt\n",
    "\n",
    "def hasiera(N):                                              #Gure spinen katea egiten dugu\n",
    "    p,spin,E,M=0.5,[1]*N,0.,0.\n",
    "    for i in range(1,N):\n",
    "        if (rnd.random()<p):\n",
    "            spin[i]=-1\n",
    "        E=E-spin[i-1]*spin[i]\n",
    "        M=M+spin[i]\n",
    "    return spin,E-spin[N-1]*spin[0],M+spin[0]\n",
    "\n",
    "N,pausuak=1000,10\n",
    "iterak,Nmc=N*pausuak*10,N*pausuak\n",
    "T,Ebat,Mbat,z=[],[],[],[]\n",
    "for i in range(1,41):\n",
    "    kT=0.1*i\n",
    "    spin,E,M=hasiera(N)\n",
    "    for k in range(iterak):                                  #Oreka lortzen dugu tenperatura bakoitzeko\n",
    "        E,M=metropolis(N,spin,kT,E,M)\n",
    "    E1,M1=0.,0.\n",
    "    for k in range(Nmc):\n",
    "        E,M=metropolis(N,spin,kT,E,M)\n",
    "        E1,M1=E1+E,M1+M\n",
    "    E1,M1=E1/Nmc,M1/Nmc                                      #Batezbesteko kalkulatzen dugu\n",
    "    T.append(kT),Ebat.append(E1/N),Mbat.append(M1/N)\n",
    "    z.append(0.0)\n",
    "    \n",
    "plt.figure()\n",
    "plt.plot(T,Ebat,'o',T,-np.tanh(1./np.array(T)))\n",
    "plt.xlabel('$kT/\\epsilon$')\n",
    "plt.ylabel(r'$\\langle E \\rangle /N\\epsilon$')\n",
    "plt.figure()\n",
    "plt.plot(T,Mbat,'o',T,z)\n",
    "plt.xlabel('$kT/\\epsilon$')\n",
    "plt.ylabel(r'$\\langle M \\rangle /N\\epsilon$')\n",
    "plt.show()"
   ]
  },
  {
   "cell_type": "markdown",
   "metadata": {},
   "source": [
    "**Programa 8:** Orekako energia eta magnetizazioaren batezbestekoa spin bakoitzeko, tenperaturaren funtzioan."
   ]
  },
  {
   "cell_type": "markdown",
   "metadata": {},
   "source": [
    "Ikusi dezakegunez energiaren batezbestekoa $\\langle E \\rangle=-1$ da tenperatura zerorantz doaenean eta tenperatura igotzen dugunean $\\langle E \\rangle\\rightarrow 0$-rantz doa. Energiaren batezbestekoa analitikoki kalkulatu dezakegu, kontuan izanda gure sistemaren partizio funtzioa ondokoa dela, muga balfintza periodikoak artuz:\n",
    "$$Z=(\\sum\\limits_{s_1...s_N}e^{\\beta\\epsilon s_{i}s_{i+1}})^n=[2cosh(\\beta\\epsilon)]^n$$\n",
    "Orain $16.$ ekuazioa erabiliz:\n",
    "$$\\langle E\\rangle=-\\dfrac{\\partial lnZ}{\\partial \\beta}=-N\\epsilon tanh(\\beta\\epsilon)$$\n",
    "Hau gure simulazioarekin bat dator.\n",
    "Bestalde teoriak esaten digu magnetizazioa nula izan behar dela bi arrazoiengatik. Lehenegoa, ez dugu inolako kanpo eremurik beraz spinek ez dute norabide pribilegiaturik. Bigarrena, ia mikroegora guztietan spin bat biratu daiteke energia totala aldatu gabe. Ondorioz magnetizazioaren batezbestekoa zeroren inguruan oszilatuko du."
   ]
  },
  {
   "cell_type": "code",
   "execution_count": 5,
   "metadata": {},
   "outputs": [
    {
     "data": {
      "image/png": "[encoded data removed]",
      "text/plain": [
       "<matplotlib.figure.Figure at 0x89fc030>"
      ]
     },
     "metadata": {},
     "output_type": "display_data"
    }
   ],
   "source": [
    "import random as rnd\n",
    "import numpy as np\n",
    "import matplotlib.pyplot as plt\n",
    "\n",
    "def hasiera(N):                                              #Gure spinen katea egiten dugu\n",
    "    p,spin,E,M=0.5,[1]*N,0.,0.\n",
    "    for i in range(1,N):\n",
    "        if (rnd.random()<p):\n",
    "            spin[i]=-1\n",
    "        E=E-spin[i-1]*spin[i]\n",
    "        M=M+spin[i]\n",
    "    return spin,E-spin[N-1]*spin[0],M+spin[0]\n",
    "\n",
    "N,pausuak=1000,10\n",
    "iterak,Nmc=N*pausuak,N*pausuak\n",
    "T,C,Cteo=[],[],[]\n",
    "k=1.38e-23\n",
    "for i in range(1,41):\n",
    "    kT=0.1*i\n",
    "    spin,E,M=hasiera(N)\n",
    "    for k in range(iterak):                                  #Oreka lortzen dugu tenperatura bakoitzeko\n",
    "        E,M=metropolis(N,spin,kT,E,M)\n",
    "    \n",
    "    E1=0.0\n",
    "    E2=0.0\n",
    "    for k in range(200):\n",
    "        E,M=metropolis(N,spin,kT,E,M)\n",
    "        E1=E1+E\n",
    "        E2=(E2**2+(E**2)/(Nmc)**2)\n",
    "        #print(E1)\n",
    "        #print(E2)\n",
    "    E1=E1/Nmc\n",
    "    T.append(kT),C.append((k*(E2-E1)/(kT)**2)/N),Cteo.append(k/(kT*np.cosh(1/kT))**2)\n",
    "\n",
    "plt.figure()\n",
    "plt.plot(T,C,'o',T,Cteo)\n",
    "plt.xlabel('$kT/\\epsilon$')\n",
    "plt.ylabel(r'$C /N\\epsilon$')  \n",
    "plt.show()"
   ]
  },
  {
   "cell_type": "markdown",
   "metadata": {},
   "source": [
    "## 2 Dimentsioko Ising-en eredua\n",
    "\n",
    "Ikusi dugun modura 1D-ko $Ising$-en ereduak zenbait emaitz termodinamiko interesgarri ematen digu baina ez du balio fase trantsizioak aztertzeko, horretarako 2D-ko $Ising$-en eredua eraiki behar dugu. Eredu honetan spinez osatuatako sare bat $NxN$ dimentsiokoa. 1D-ko adibidean bezala bakarrik kontuan izango dugu ondoz ondoko spinen arteko interakzioak, baina kasu honetan lau auzoko izango ditugu: goian, behean , ezkerrean eta eskuinean. Beraz mikroegora baten energia honela idatziko dugu:\n",
    "$$E=-\\epsilon\\sum\\limits_{(i,j)}s_is_j$$\n",
    "Non batukaria bakarrik den $(i,j)$ bikote auzokideentzako. Bestalde $Monte$ $Carlo$ $Metropolis$ simulazioa erabiltzeko behar dugu spin bat biratzean gertatzen den energiaren aldaketa:\n",
    "$$\\Delta E=2\\epsilon s_{i,j}(s_{i-1,j}+s_{i+1,j}+s_{i,j-1}+s_{i,j+1})$$\n",
    "Eredu honetan baita erabiliko ditugu muga baldintza periodikoak:$s_{n+1,j}=s_{1,j}$ eta $s_{i,N+1}=s_{i,1}$. Behin aldaketa hauek azalduta idatzi dezakegu programa bat 1D-ko kasuan egin fugun modu berean:"
   ]
  },
  {
   "cell_type": "code",
   "execution_count": 7,
   "metadata": {
    "collapsed": true
   },
   "outputs": [],
   "source": [
    "def metropolis2d(N,spin,kT,E,M):\n",
    "    i,j,flip=rnd.randint(0,N-1),rnd.randint(0,N-1),0\n",
    "    dE=2*spin[i][j]*(spin[i-1][j]+spin[(i+1)%N][j]+spin[i][j-1]+spin[i][(j+1)%N])\n",
    "    if (dE<0.0):\n",
    "        flip=1\n",
    "    else:\n",
    "        p=np.exp(-dE/kT)\n",
    "        if (rnd.random()<p):\n",
    "            flip=1\n",
    "    if (flip==1):\n",
    "        E=E+dE\n",
    "        M=M-2*spin[i][j]\n",
    "        spin[i][j]=-spin[i][j]\n",
    "    return E,M,spin"
   ]
  },
  {
   "cell_type": "markdown",
   "metadata": {},
   "source": [
    "**Programa :** 2 dimentsioko Metropolis algoritmoa spin sarearako."
   ]
  },
  {
   "cell_type": "markdown",
   "metadata": {},
   "source": [
    "Behin hau dugula programa batean implementa dezakegu  tenperatura desberdinetarako oreka konfigurazioa lortzeko. Beraz hurrengo programan $1024$ spinen $32x32$ sarea aztertu dugu:"
   ]
  },
  {
   "cell_type": "code",
   "execution_count": 8,
   "metadata": {},
   "outputs": [
    {
     "data": {
      "text/plain": [
       "<matplotlib.figure.Figure at 0x79fb990>"
      ]
     },
     "metadata": {},
     "output_type": "display_data"
    },
    {
     "data": {
      "image/png": "[encoded data removed]",
      "text/plain": [
       "<matplotlib.figure.Figure at 0x8c6c570>"
      ]
     },
     "metadata": {},
     "output_type": "display_data"
    }
   ],
   "source": [
    "import matplotlib.pyplot as plt\n",
    "import numpy as np\n",
    "import random as rnd\n",
    "\n",
    "def hasiera(N):                                         #Gure spinen sarea eraiki\n",
    "    p,E,M=0.5,-0.6,0.\n",
    "    spin=np.zeros((N,N))\n",
    "    for i in range(0,N):\n",
    "        for j in range(0,N):\n",
    "            spin[i][j]=1\n",
    "            if (rnd.random()<p):\n",
    "                spin[i][j]=-1\n",
    "            E=E-(spin[i-1][j]+spin[i][j-1])*spin[i][j]\n",
    "            M=M+spin[i][j]\n",
    "    return spin,E,M\n",
    "\n",
    "N=32\n",
    "kT=0.0\n",
    "iterazio=100000*N\n",
    "fig=plt.figure()\n",
    "for j in range(9):\n",
    "    kT=kT+0.5\n",
    "    spin,E,M=hasiera(N)\n",
    "    for i in range(iterazio):\n",
    "        E,M,spin=metropolis2d(N,spin,kT,E,M)\n",
    "    if (j==3):\n",
    "        plt.colorbar(plot)\n",
    "    ax=fig.add_subplot(3,3,j+1)\n",
    "    img=np.reshape(spin,(N,N))\n",
    "    plot=plt.imshow(spin,interpolation='none',vmin=0,vmax=1)\n",
    "    plt.text(35,0.5,repr(0.5+0.5*j))\n",
    "plt.show()"
   ]
  },
  {
   "cell_type": "markdown",
   "metadata": {},
   "source": [
    "**Programa :** 2 dimentsioko Ising-en sarea orekan."
   ]
  },
  {
   "cell_type": "markdown",
   "metadata": {},
   "source": [
    "Ikusi dezakegunez tenperatura txikia denean spin guztiak lerrokatuta daude modu berean eta tenperatura igotzean nahasten dira. Baina gutxi gorabehera $kT\\sim 2.5$ tartean aldaketa zakar bat ikusten dugu, hau esaten digu tenperatura horren inguruan fase trantsizioa gertatzen dela."
   ]
  },
  {
   "cell_type": "markdown",
   "metadata": {},
   "source": [
    "### Fase trantsizioa\n",
    "\n",
    "Fenomeno hau ikertzeko  orekako energia eta magnetizazioaren batesbeztekoa kalkulatuko dugu tenperaturaren funtzioan:"
   ]
  },
  {
   "cell_type": "code",
   "execution_count": 10,
   "metadata": {},
   "outputs": [
    {
     "data": {
      "image/png": "[encoded data removed]",
      "text/plain": [
       "<matplotlib.figure.Figure at 0x8b0bb70>"
      ]
     },
     "metadata": {},
     "output_type": "display_data"
    },
    {
     "data": {
      "image/png": "[encoded data removed]",
      "text/plain": [
       "<matplotlib.figure.Figure at 0x8b42a30>"
      ]
     },
     "metadata": {},
     "output_type": "display_data"
    }
   ],
   "source": [
    "import numpy as np\n",
    "import random as rnd\n",
    "import matplotlib.pyplot as plt\n",
    "\n",
    "def hasiera(N):                                         #Gure spinen sarea eraiki\n",
    "    p,E,M=0.5,-0.6,0.\n",
    "    spin=np.zeros((N,N))\n",
    "    for i in range(0,N):\n",
    "        for j in range(0,N):\n",
    "            spin[i][j]=1\n",
    "            if (rnd.random()<p):\n",
    "                spin[i][j]=-1\n",
    "            E=E-(spin[i-1][j]+spin[i][j-1])*spin[i][j]\n",
    "            M=M+spin[i][j]\n",
    "    return spin,E,M\n",
    "\n",
    "kT=0.0\n",
    "T,Ebat,Mbat=[],[],[]\n",
    "N,pausuak=32,10000\n",
    "iterak,Nmc=N*pausuak,N*pausuak\n",
    "for j in range(45):\n",
    "    kT=kT+0.1\n",
    "    spin,E,M=hasiera(N)\n",
    "    for i in range(iterak):\n",
    "        E,M,spin=metropolis2d(N,spin,kT,E,M)\n",
    "    E1,M1=0.,0.\n",
    "    for k in range(Nmc):\n",
    "        E,M,spin=metropolis2d(N,spin,kT,E,M)\n",
    "        E1,M1=E1+E,M1+M\n",
    "    E1,M1=E1/Nmc,M1/Nmc                                      #Batezbesteko kalkulatzen dugu\n",
    "    T.append(kT),Ebat.append(E1/N),Mbat.append(abs(M1)/N)\n",
    "    \n",
    "plt.figure()\n",
    "plt.plot(T,Ebat,'o')\n",
    "plt.xlabel('$kT/\\epsilon$')\n",
    "plt.ylabel(r'$\\langle E \\rangle /N\\epsilon$')\n",
    "plt.figure()\n",
    "plt.plot(T,Mbat,'o')\n",
    "plt.xlabel('$kT/\\epsilon$')\n",
    "plt.ylabel(r'$\\langle M \\rangle /N\\epsilon$')\n",
    "plt.show()"
   ]
  },
  {
   "cell_type": "markdown",
   "metadata": {},
   "source": [
    "**Programa :** Orekako eneriaren eta magnetizazioaren bateztebestekoak tenperatura desberdinetan."
   ]
  },
  {
   "cell_type": "markdown",
   "metadata": {},
   "source": [
    "Ikusten dugun modura energiak 1D-ko ereduaren konportamolde berdina dauka, baina magnetizazioa aldaketa bortitz bat dauka $T_k\\sim 2.2$ denean, honek esaten digu fase trantsizioa dugula. Hau da, spin guztiak zorizko norabidea daukate tenperatura kritikotik gora($T_k\\sim 2.2$) eta hortik behera guztiz ordenatuta daude.\n",
    "\n",
    "Gainera ikusi dezakegu ferromagnetikoen beste propietate bat, tenperatura kritikoa gainditu ondoren norabide berdina duten spinak elkarrekin geratzen dira multzoak eratuz eta tenperatura igotzean multzo hauen tamaina txikituz doa.\n",
    "Orain konparatu ditzakegu 1 eta 2 dimentsioko ereduak eta ulertu zergatik $1D$-ko ereduan ez dugun ikusi fase trantsizioa. Dimentsio bakarreko ereduan spinen kate osoari buelta eman ahal diogu energiarik eman gabe, tenperatura nulua ez den bitartean, kasu honetan spin guztien norabidea berdina baita.\n",
    "\n",
    "Bestalde bi dimentsioko ereduan ezin dugu hau egin sistemari energia eman gabe. Gure sistemak energia behar du domeinuen arteko indarra gainditzeko. Kontsidera dezagun zutabe bat, hau $1D$-ko ereduko katea da, baina honi ezin diogu buelta eman alboko zutabeen arteko elkarrenkintza dugulako."
   ]
  }
 ],
 "metadata": {
  "kernelspec": {
   "display_name": "Python 3",
   "language": "python",
   "name": "python3"
  },
  "language_info": {
   "codemirror_mode": {
    "name": "ipython",
    "version": 3
   },
   "file_extension": ".py",
   "mimetype": "text/x-python",
   "name": "python",
   "nbconvert_exporter": "python",
   "pygments_lexer": "ipython3",
   "version": "3.6.1"
  }
 },
 "nbformat": 4,
 "nbformat_minor": 2
}
