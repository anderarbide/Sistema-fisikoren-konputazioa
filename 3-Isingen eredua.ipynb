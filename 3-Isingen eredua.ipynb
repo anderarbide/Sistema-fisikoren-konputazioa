{
 "cells": [
  {
   "cell_type": "markdown",
   "metadata": {},
   "source": [
    "# Ising-en eredua\n",
    "\n",
    "Orain arte $Einstein$-en solidoen eredua aztertu dugu. Behin hau egin dugula aztertuko dugu eredu bat zeinetan partikulak beraien artean menpekoak diren. Era honetako eredurik sinpleena $Ising$ eredua da, honek oso erabilgarria da solido ferromagnetikoak aztertzeko. Gainera eredu hau nahiko sinplea denez ondo azaldu eta inplementatu dezakegu $Metropolis$ algoritmoa."
   ]
  },
  {
   "cell_type": "markdown",
   "metadata": {},
   "source": [
    "## 1 dimentsioko Ising eredua\n",
    "\n",
    "Kontsideratuko dugu 1 dimentsioko $Ising$-en eredua, hau N momentu dipolar berdinetan oinarritzen da, spin hauek kate bat osatzen dute. Momentu dipolar(spin) bakoitzak bi egoeretan egon daiteke: gorantz $s_i=1$ edo beherantz $s_i=-1$, beraz bi spinen arteko interakzio energia ondokoa da:\n",
    "$$E_{i,j}=-\\epsilon s_is_j$$\n",
    "Non $\\epsilon$ parekatze energia den. $\\epsilon >0$ bada, interakzio energiak lagunduko ditu spin paraleloak ferromagnetismoa sortuz; $\\epsilon$-en balioa atomoen arteko indarrek zehazten dute. Guk artuko dugu gure analisia egiteko $\\epsilon>0$ eta tratatuko dugu sistema ferromagnetiko baten energi kuanto bezala. Sistemaren energi osoa kalkulatu nahi badugu bikote guztiak kontuan hartu behar ditugu, baina bakirrik kontuan hartuku ditugu ondoz ondoko bikoteak, kontuan hartuz distantzia handiko elkarrekintza ahula dela. Beraz 1D-ko $Ising$-en ereduaren energia osoa ondokoa da:\n",
    "$$E=\\sum\\limits_{i}E_{i,i+1}=-\\epsilon\\sum\\limits_{i=1}^{N}s_is_{i+1}$$\n",
    "Ikusten dugunez $s_{N+1}$ terminoa daukagu definitu gabe dagoena. Bi konponbide ditugu, bat termino hau kendu edo bestela muga baldintza periodikoak erabili. Lehenengo konponbidea ondo dago $N$ oso handia bada. Guk muga baldintza periodikoak erabiliko ditugu:\n",
    "$$s_{N+1}=s_1$$\n",
    "Imaginatu dezakegu muga baldintza hauekin gure katearen amaieran beste identiko bat jarri dugula edo gure katea eraztun bat osatuz jarri dugula."
   ]
  },
  {
   "cell_type": "markdown",
   "metadata": {},
   "source": [
    "## Metropolis simulazioa\n",
    "\n",
    "Gure $Ising$ ereduaren dinamika aztertzeko, gure sistema $T$ tenperatura iturriarekin kontaktuan jarri behar dugu,tenperatura iturrien abantila da beroa hartu eta eman dezaketela beraien tenperatura aldatu gabe. Inolako kalkulorik egin gabe badakigu hasierako egoera bat emanez gure sistemak iturriarekin energia trukatuko du spinen orientazioa aldatuz. Momentu dipolarren biraketa gertatuko da gure sistema orekara heldu arte, gero spin batzuen fluktuazioak gerta daiteke baina energiaren aldaketa oso txikia izango da. Behin hau argi dugula, hurrengo galdera da, nola simulatuko dugu prozesu hau? Egin dezakegu gure kalkulua era zuzenean, eratuz gure ${s_i}$ mikroegoera aleatorioki. Arazoa da, mikroegoeren kopurua handiegia izan daitekela, adibidez $N=1000$ badaukagu mikroegoeren kopurua $2^N\\sim 10^{300}$ dela, beraz metodo hau ez da erabilgarria.\n",
    "Baina irtenbide bat daukagu, $Metropolis$ algoritmoa. Honen funtzionamendua ondokoa da:"
   ]
  },
  {
   "cell_type": "markdown",
   "metadata": {},
   "source": [
    "0. Hasierako ${s_i}$ mikroegoera zehaztu behar dugu. Edozein mikroegora aleatorio balio du, baina komenigarriagoa da egoera hotz batekin hastea, hau da spin paralelo gehiago edukitzea antiparalelo baino.\n",
    "1. Hartu behar dugu edozein $i$ spin eta biratuko dugu gertatutako energia aldaketa($\\Delta E$) neurtuz:\n",
    "$$\\Delta E=E_{bukaeran}-E_{hasieran}=2\\epsilon s_i(s_{i-1}+s_{i+1})$$\n",
    "2. Orain $\\Delta E<0$ bada spinaren biraketa onartuko dugu, kontuan izan prozesu fisikoetan naturak energia baxuko egoerak nahiago dituela, $s_i\\rightarrow s_{-i}$ aldaketa eginez. Bestalde, $x$ zenbaki aleatorio bat hartuko dugu eta $x<exp(-\\Delta E/kT)$ bada baita onartuko dugu biraketa. Hau ez badugu egiten gure sistema 0 energiara joango da zuzenean.\n",
    "3. $2.$ eta $3.$ pausoak errepikatu oreka lortu arte."
   ]
  },
  {
   "cell_type": "markdown",
   "metadata": {},
   "source": [
    "Konturatu $\\epsilon =1$ egin dezakegula informazioa galdu gabe. Behin $Metropolis$ algoritmoa deskribatu dugula funtzio bat egingo dugu hau egiten duena:"
   ]
  },
  {
   "cell_type": "code",
   "execution_count": 1,
   "metadata": {
    "collapsed": true
   },
   "outputs": [],
   "source": [
    "def metropolis(N, spin,kT,E,M):                 #Metropolis algoritmoa\n",
    "    i, flip=rnd.randint(0,N-1),0\n",
    "    dE=2*spin[i]*(spin[i-1]+spin[(i+1)%N])      #24. ekuazioa muga baldintza periodikoak hartuz\n",
    "    if (dE<0.0):\n",
    "        flip=1                                  #biraketa onartu\n",
    "    else:\n",
    "        p=np.exp(-dE/kT)\n",
    "        if (rnd.random()<p):\n",
    "            flip=1\n",
    "    if (flip==1):\n",
    "        E=E+dE                                   #Energia berria biraketa onartu era gero\n",
    "        M=M-2*spin[i]                            #Magnetizazio berria\n",
    "        spin[i]=-spin[i]\n",
    "    return E,M"
   ]
  },
  {
   "cell_type": "markdown",
   "metadata": {},
   "source": [
    "** Programa 6:** Metropolis algoritmoa 1 dimentsioko spin katean."
   ]
  },
  {
   "cell_type": "markdown",
   "metadata": {},
   "source": [
    "Funtzio hau $Metropolis$ algoritmoa burutzen du, beraz hau beste programa batean implementatu dezakegu gure 1 dimentsioko ferromagnetikoaren konportamoldea ikusteko."
   ]
  },
  {
   "cell_type": "code",
   "execution_count": 2,
   "metadata": {},
   "outputs": [
    {
     "data": {
      "image/png": "[encoded data removed]",
      "text/plain": [
       "<matplotlib.figure.Figure at 0x5c02df0>"
      ]
     },
     "metadata": {},
     "output_type": "display_data"
    }
   ],
   "source": [
    "import random as rnd\n",
    "import numpy as np\n",
    "import matplotlib.pyplot as plt\n",
    "\n",
    "def hasiera(N):\n",
    "    p,spin,E,M=0.5,[1]*N,-0.6,0.\n",
    "    for i in range(1,N):\n",
    "        if (rnd.random()<p):\n",
    "            spin[i]=-1\n",
    "        E=E-spin[i-1]*spin[i]\n",
    "        M=M+spin[i]\n",
    "    return spin,E-spin[N-1]*spin[0],M+spin[0]\n",
    "\n",
    "N,pausuak=1000,10\n",
    "iterak,Nmc=N*pausuak,N*pausuak\n",
    "E1=[]\n",
    "iterazio=[]\n",
    "kT=1.0\n",
    "spin,E,M=hasiera(N)\n",
    "\n",
    "for k in range(iterak):\n",
    "    E1.append(E/N)\n",
    "    iterazio.append(k/N)\n",
    "    E,M=metropolis(N,spin,kT,E,M)\n",
    "kT=2.0\n",
    "E2=[]\n",
    "spin,E,M=hasiera(N)\n",
    "for k in range(iterak):\n",
    "    E2.append(E/N)\n",
    "    E,M=metropolis(N,spin,kT,E,M)\n",
    "plt.figure()\n",
    "plt.plot(iterazio,E1,'o',iterazio,E2)\n",
    "plt.xlabel('Iterazio/N')\n",
    "plt.ylabel('Energia/N')\n",
    "plt.show()"
   ]
  },
  {
   "cell_type": "markdown",
   "metadata": {},
   "source": [
    "**Programa7:** Spinen kate baten oreka."
   ]
  },
  {
   "cell_type": "markdown",
   "metadata": {},
   "source": [
    "Behin gure sistemaren oreka lortu dugula, orekako gorabeherak aztertu ditzakegu. $Monte$ $Carlo$ $Metropolis$ simulazioan oso erraz kalkulkulatu ditzakegu batezbestekoak, adibidez enegiaren eta magnetizazioaren batezbestekoak honela kalkulatzen dira:\n",
    "$$\\langle E \\rangle=\\dfrac{1}{N}\\sum\\limits_{n=1}^{N}E(n)$$\n",
    "$$\\langle M \\rangle=\\dfrac{1}{N}\\sum\\limits_{n=1}^{N}M(n)$$\n",
    "Non $E(n)$ n. mikroegoeraren energia eta $M(n)$ magnetizazioa, hau da spin totala, diren.Beraz hau ondorengo programan ordezkatuz bi hauen itxura lortu dezakegu:"
   ]
  },
  {
   "cell_type": "code",
   "execution_count": 4,
   "metadata": {},
   "outputs": [
    {
     "data": {
      "image/png": "[encoded data removed]",
      "text/plain": [
       "<matplotlib.figure.Figure at 0x7854770>"
      ]
     },
     "metadata": {},
     "output_type": "display_data"
    },
    {
     "data": {
      "image/png": "[encoded data removed]",
      "text/plain": [
       "<matplotlib.figure.Figure at 0x78f5d50>"
      ]
     },
     "metadata": {},
     "output_type": "display_data"
    }
   ],
   "source": [
    "import random as rnd\n",
    "import numpy as np\n",
    "import matplotlib.pyplot as plt\n",
    "\n",
    "def hasiera(N):                                              #Gure spinen katea egiten dugu\n",
    "    p,spin,E,M=0.5,[1]*N,0.,0.\n",
    "    for i in range(1,N):\n",
    "        if (rnd.random()<p):\n",
    "            spin[i]=-1\n",
    "        E=E-spin[i-1]*spin[i]\n",
    "        M=M+spin[i]\n",
    "    return spin,E-spin[N-1]*spin[0],M+spin[0]\n",
    "\n",
    "N,pausuak=1000,10\n",
    "iterak,Nmc=N*pausuak*10,N*pausuak\n",
    "T,Ebat,Mbat,z=[],[],[],[]\n",
    "for i in range(1,41):\n",
    "    kT=0.1*i\n",
    "    spin,E,M=hasiera(N)\n",
    "    for k in range(iterak):                                  #Oreka lortzen dugu tenperatura bakoitzeko\n",
    "        E,M=metropolis(N,spin,kT,E,M)\n",
    "    E1,M1=0.,0.\n",
    "    for k in range(Nmc):\n",
    "        E,M=metropolis(N,spin,kT,E,M)\n",
    "        E1,M1=E1+E,M1+M\n",
    "    E1,M1=E1/Nmc,M1/Nmc                                      #Batezbesteko kalkulatzen dugu\n",
    "    T.append(kT),Ebat.append(E1/N),Mbat.append(M1/N)\n",
    "    z.append(0.0)\n",
    "    \n",
    "plt.figure()\n",
    "plt.plot(T,Ebat,'o',T,-np.tanh(1./np.array(T)))\n",
    "plt.xlabel('$kT/\\epsilon$')\n",
    "plt.ylabel(r'$\\langle E \\rangle /N\\epsilon$')\n",
    "plt.figure()\n",
    "plt.plot(T,Mbat,'o',T,z)\n",
    "plt.xlabel('$kT/\\epsilon$')\n",
    "plt.ylabel(r'$\\langle M \\rangle /N\\epsilon$')\n",
    "plt.show()"
   ]
  },
  {
   "cell_type": "markdown",
   "metadata": {},
   "source": [
    "**Programa 8:** Orekako energia eta magnetizazioaren batezbestekoa spin bakoitzeko, tenperaturaren funtzioan."
   ]
  },
  {
   "cell_type": "markdown",
   "metadata": {},
   "source": [
    "Ikusi dezakegunez energiaren batezbestekoa $\\langle E \\rangle=-1$ da tenperatura zerorantz doaenean eta tenperatura igotzen dugunean $\\langle E \\rangle\\rightarrow 0$-rantz doa. Energiaren batezbestekoa analitikoki kalkulatu dezakegu, kontuan izanda gure sistemaren partizio funtzioa ondokoa dela, muga balfintza periodikoak artuz:\n",
    "$$Z=(\\sum\\limits_{s_1...s_N}e^{\\beta\\epsilon s_{i}s_{i+1}})^n=[2cosh(\\beta\\epsilon)]^n$$\n",
    "Orain $16.$ ekuazioa erabiliz:\n",
    "$$\\langle E\\rangle=-\\dfrac{\\partial lnZ}{\\partial \\beta}=-N\\epsilon tanh(\\beta\\epsilon)$$\n",
    "Hau gure simulazioarekin bat dator.\n",
    "Bestalde teoriak esaten digu magnetizazioa nula izan behar dela bi arrazoiengatik. Lehenegoa, ez dugu inolako kanpo eremurik beraz spinek ez dute norabide pribilegiaturik. Bigarrena, ia mikroegora guztietan spin bat biratu daiteke energia totala aldatu gabe. Ondorioz magnetizazioaren batezbestekoa zeroren inguruan oszilatuko du.\n",
    "\n",
    "Baita hurrengo programan ikusten den modura azukide gehiagoren eragina kontuan artu dezakegu:"
   ]
  },
  {
   "cell_type": "code",
   "execution_count": 1,
   "metadata": {
    "scrolled": false
   },
   "outputs": [
    {
     "data": {
      "image/png": "[encoded data removed]",
      "text/plain": [
       "<matplotlib.figure.Figure at 0x5208c50>"
      ]
     },
     "metadata": {},
     "output_type": "display_data"
    },
    {
     "data": {
      "image/png": "[encoded data removed]",
      "text/plain": [
       "<matplotlib.figure.Figure at 0x6618a90>"
      ]
     },
     "metadata": {},
     "output_type": "display_data"
    }
   ],
   "source": [
    "import random as rnd\n",
    "import numpy as np\n",
    "import matplotlib.pyplot as plt\n",
    "\n",
    "def hasiera(N):                                              #Gure spinen katea egiten dugu\n",
    "    p,spin,E,M=0.5,[1]*N,0.,0.\n",
    "    for i in range(1,N):\n",
    "        if (rnd.random()<p):\n",
    "            spin[i]=-1\n",
    "        E=E-spin[i-1]*spin[i]\n",
    "        M=M+spin[i]\n",
    "    return spin,E-spin[N-1]*spin[0],M+spin[0]\n",
    "\n",
    "def metropolis2(N, spin,kT,E,M):                 #Metropolis algoritmoa p11.4b) moduan eginda\n",
    "    i, flip=rnd.randint(0,N-1),0\n",
    "    r=0.5\n",
    "    dE=2*spin[i]*(r*spin[i-2]+spin[i-1]+spin[(i+1)%N]+r*spin[(i+2)%N])      #24. ekuazioa muga baldintza periodikoak hartuz\n",
    "    if (dE<0.0):\n",
    "        flip=1                                  #biraketa onartu\n",
    "    else:\n",
    "        p=np.exp(-dE/kT)\n",
    "        if (rnd.random()<p):\n",
    "            flip=1\n",
    "    if (flip==1):\n",
    "        E=E+dE                                   #Energia berria biraketa onartu era gero\n",
    "        M=M-2*spin[i]                            #Magnetizazio berria\n",
    "        spin[i]=-spin[i]\n",
    "    return E,M\n",
    "\n",
    "N,pausuak=1000,10\n",
    "iterak,Nmc=N*pausuak*10,N*pausuak\n",
    "T,Ebat,Mbat,z=[],[],[],[]\n",
    "for i in range(1,41):\n",
    "    kT=0.1*i\n",
    "    spin,E,M=hasiera(N)\n",
    "    for k in range(iterak):                                  #Oreka lortzen dugu tenperatura bakoitzeko\n",
    "        E,M=metropolis2(N,spin,kT,E,M)\n",
    "    E1,M1=0.,0.\n",
    "    for j in range(Nmc):\n",
    "        E,M=metropolis2(N,spin,kT,E,M)\n",
    "        E1,M1=E1+E,M1+M\n",
    "    E1,M1=E1/Nmc,M1/Nmc                                      #Batezbesteko kalkulatzen dugu\n",
    "    T.append(kT),Ebat.append(E1/N),Mbat.append(M1/N)\n",
    "    z.append(0.0)\n",
    "    \n",
    "fig=plt.figure()\n",
    "plt.plot(T,Ebat,'o',label='Konputazionala')\n",
    "plt.plot(T,-np.tanh(1./np.array(T)),label='Teorikoa, auzoko bakarra')\n",
    "ax=fig.add_subplot(111)\n",
    "ax.legend(loc='lower right')\n",
    "plt.xlabel('$kT/\\epsilon$')\n",
    "plt.ylabel(r'$\\langle E \\rangle /N\\epsilon$')\n",
    "fig2=plt.figure()\n",
    "plt.plot(T,Mbat,'o',label='Konputazionala')\n",
    "plt.plot(T,z,label='Teorikoa, auzoko bakarra')\n",
    "ax2=fig2.add_subplot(111)\n",
    "ax2.legend(loc='lower right')\n",
    "plt.xlabel('$kT/\\epsilon$')\n",
    "plt.ylabel(r'$\\langle M \\rangle /N\\epsilon$')\n",
    "plt.show()"
   ]
  },
  {
   "cell_type": "markdown",
   "metadata": {},
   "source": [
    "Bigarren ondokoen eragina sartuz energiaren itxura ez da aldatzen, bakarrik mugitzen da beherantz eta magnetizazioaren batazbestekoa zerotik aldentzen da. \n",
    "\n",
    "Gure lanaren helburuak betetzeko egingo dugu hurrengo programa gure katearen eboluzio denboralaren bideo bat lortzeko:"
   ]
  },
  {
   "cell_type": "code",
   "execution_count": null,
   "metadata": {
    "collapsed": true
   },
   "outputs": [],
   "source": [
    "import random as rnd\n",
    "import ivisual as vp\n",
    "import numpy as np\n",
    "import ipywidgets as widgets\n",
    "\n",
    "def hasiera(N):                                              #Gure spinen katea egiten dugu\n",
    "    p,spin,E,M=0.5,[1]*N,0.,0.\n",
    "    for i in range(1,N):\n",
    "        if (rnd.random()<p):\n",
    "            spin[i]=-1\n",
    "        E=E-spin[i-1]*spin[i]\n",
    "        M=M+spin[i]\n",
    "    return spin,E-spin[N-1]*spin[0],M+spin[0]\n",
    "\n",
    "def metropolis(N, spin,kT):                 #Metropolis algoritmoa E,M kenduta dena errazteko\n",
    "    i, flip=rnd.randint(0,N-1),0\n",
    "    dE=2*spin[i]*(spin[i-1]+spin[(i+1)%N])      #24. ekuazioa muga baldintza periodikoak hartuz\n",
    "    if (dE<0.0):\n",
    "        flip=1                                  #biraketa onartu\n",
    "    else:\n",
    "        p=np.exp(-dE/kT)\n",
    "        if (rnd.random()<p):\n",
    "            flip=1\n",
    "    if (flip==1):\n",
    "        spin[i]=-spin[i]\n",
    "    return spin\n",
    "N=50\n",
    "spin,E,M=hasiera(N)\n",
    "L=1.0\n",
    "scene=vp.display(title='1D ising',background=(.2,.5,1),center=(0,0,1.0),forward=(-.4,-.3,-1))\n",
    "ay=(0,1,0)\n",
    "x=np.linspace(-5*L,5*L,N)\n",
    "s=np.arange(N)                                                            #número de spines\n",
    "spind=[]                                                                  #spin_dibujo:la imagen de nuestros spines\n",
    "for i in s:\n",
    "    spind.append(vp.arrow(pos=(x[i],0,0),axis=(0,spin[i],0),length=1.0,color=(1,1,1)))\n",
    "vp.label(pos=(0,2.,0),text='kT=15.5',box=True)\n",
    "\n",
    "while True:\n",
    "    vp.rate(100)\n",
    "    kT=15.5\n",
    "    spin=metropolis(N,spin,kT)\n",
    "    for i in s:\n",
    "        spind[i].axis=(0,spin[i],0)"
   ]
  },
  {
   "cell_type": "markdown",
   "metadata": {},
   "source": [
    "## 2 Dimentsioko Ising-en eredua\n",
    "\n",
    "Ikusi dugun modura 1D-ko $Ising$-en ereduak zenbait emaitz termodinamiko interesgarri ematen digu baina ez du balio fase trantsizioak aztertzeko, horretarako 2D-ko $Ising$-en eredua eraiki behar dugu. Eredu honetan spinez osatuatako sare bat $NxN$ dimentsiokoa. 1D-ko adibidean bezala bakarrik kontuan izango dugu ondoz ondoko spinen arteko interakzioak, baina kasu honetan lau auzoko izango ditugu: goian, behean , ezkerrean eta eskuinean. Beraz mikroegora baten energia honela idatziko dugu:\n",
    "$$E=-\\epsilon\\sum\\limits_{(i,j)}s_is_j$$\n",
    "Non batukaria bakarrik den $(i,j)$ bikote auzokideentzako. Bestalde $Monte$ $Carlo$ $Metropolis$ simulazioa erabiltzeko behar dugu spin bat biratzean gertatzen den energiaren aldaketa:\n",
    "$$\\Delta E=2\\epsilon s_{i,j}(s_{i-1,j}+s_{i+1,j}+s_{i,j-1}+s_{i,j+1})$$\n",
    "Eredu honetan baita erabiliko ditugu muga baldintza periodikoak:$s_{n+1,j}=s_{1,j}$ eta $s_{i,N+1}=s_{i,1}$. Behin aldaketa hauek azalduta idatzi dezakegu programa bat 1D-ko kasuan egin fugun modu berean:"
   ]
  },
  {
   "cell_type": "code",
   "execution_count": 7,
   "metadata": {
    "collapsed": true
   },
   "outputs": [],
   "source": [
    "def metropolis2d(N,spin,kT,E,M):\n",
    "    i,j,flip=rnd.randint(0,N-1),rnd.randint(0,N-1),0\n",
    "    dE=2*spin[i][j]*(spin[i-1][j]+spin[(i+1)%N][j]+spin[i][j-1]+spin[i][(j+1)%N])\n",
    "    if (dE<0.0):\n",
    "        flip=1\n",
    "    else:\n",
    "        p=np.exp(-dE/kT)\n",
    "        if (rnd.random()<p):\n",
    "            flip=1\n",
    "    if (flip==1):\n",
    "        E=E+dE\n",
    "        M=M-2*spin[i][j]\n",
    "        spin[i][j]=-spin[i][j]\n",
    "    return E,M,spin"
   ]
  },
  {
   "cell_type": "markdown",
   "metadata": {},
   "source": [
    "**Programa :** 2 dimentsioko Metropolis algoritmoa spin sarearako."
   ]
  },
  {
   "cell_type": "markdown",
   "metadata": {},
   "source": [
    "Behin hau dugula programa batean implementa dezakegu  tenperatura desberdinetarako oreka konfigurazioa lortzeko. Beraz hurrengo programan $1024$ spinen $32x32$ sarea aztertu dugu:"
   ]
  },
  {
   "cell_type": "code",
   "execution_count": 8,
   "metadata": {},
   "outputs": [
    {
     "data": {
      "text/plain": [
       "<matplotlib.figure.Figure at 0x79fb990>"
      ]
     },
     "metadata": {},
     "output_type": "display_data"
    },
    {
     "data": {
      "image/png": "[encoded data removed]",
      "text/plain": [
       "<matplotlib.figure.Figure at 0x8c6c570>"
      ]
     },
     "metadata": {},
     "output_type": "display_data"
    }
   ],
   "source": [
    "import matplotlib.pyplot as plt\n",
    "import numpy as np\n",
    "import random as rnd\n",
    "\n",
    "def hasiera(N):                                         #Gure spinen sarea eraiki\n",
    "    p,E,M=0.5,-0.6,0.\n",
    "    spin=np.zeros((N,N))\n",
    "    for i in range(0,N):\n",
    "        for j in range(0,N):\n",
    "            spin[i][j]=1\n",
    "            if (rnd.random()<p):\n",
    "                spin[i][j]=-1\n",
    "            E=E-(spin[i-1][j]+spin[i][j-1])*spin[i][j]\n",
    "            M=M+spin[i][j]\n",
    "    return spin,E,M\n",
    "\n",
    "N=32\n",
    "kT=0.0\n",
    "iterazio=100000*N\n",
    "fig=plt.figure()\n",
    "for j in range(9):\n",
    "    kT=kT+0.5\n",
    "    spin,E,M=hasiera(N)\n",
    "    for i in range(iterazio):\n",
    "        E,M,spin=metropolis2d(N,spin,kT,E,M)\n",
    "    if (j==3):\n",
    "        plt.colorbar(plot)\n",
    "    ax=fig.add_subplot(3,3,j+1)\n",
    "    img=np.reshape(spin,(N,N))\n",
    "    plot=plt.imshow(spin,interpolation='none',vmin=0,vmax=1)\n",
    "    plt.text(35,0.5,repr(0.5+0.5*j))\n",
    "plt.show()"
   ]
  },
  {
   "cell_type": "markdown",
   "metadata": {},
   "source": [
    "**Programa :** 2 dimentsioko Ising-en sarea orekan."
   ]
  },
  {
   "cell_type": "markdown",
   "metadata": {},
   "source": [
    "Ikusi dezakegunez tenperatura txikia denean spin guztiak lerrokatuta daude modu berean eta tenperatura igotzean nahasten dira. Baina gutxi gorabehera $kT\\sim 2.5$ tartean aldaketa zakar bat ikusten dugu, hau esaten digu tenperatura horren inguruan fase trantsizioa gertatzen dela."
   ]
  },
  {
   "cell_type": "markdown",
   "metadata": {},
   "source": [
    "### Fase trantsizioa\n",
    "\n",
    "Fenomeno hau ikertzeko  orekako energia eta magnetizazioaren batesbeztekoa kalkulatuko dugu tenperaturaren funtzioan:"
   ]
  },
  {
   "cell_type": "code",
   "execution_count": 10,
   "metadata": {},
   "outputs": [
    {
     "data": {
      "image/png": "[encoded data removed]",
      "text/plain": [
       "<matplotlib.figure.Figure at 0x8b0bb70>"
      ]
     },
     "metadata": {},
     "output_type": "display_data"
    },
    {
     "data": {
      "image/png": "[encoded data removed]",
      "text/plain": [
       "<matplotlib.figure.Figure at 0x8b42a30>"
      ]
     },
     "metadata": {},
     "output_type": "display_data"
    }
   ],
   "source": [
    "import numpy as np\n",
    "import random as rnd\n",
    "import matplotlib.pyplot as plt\n",
    "\n",
    "def hasiera(N):                                         #Gure spinen sarea eraiki\n",
    "    p,E,M=0.5,-0.6,0.\n",
    "    spin=np.zeros((N,N))\n",
    "    for i in range(0,N):\n",
    "        for j in range(0,N):\n",
    "            spin[i][j]=1\n",
    "            if (rnd.random()<p):\n",
    "                spin[i][j]=-1\n",
    "            E=E-(spin[i-1][j]+spin[i][j-1])*spin[i][j]\n",
    "            M=M+spin[i][j]\n",
    "    return spin,E,M\n",
    "\n",
    "kT=0.0\n",
    "T,Ebat,Mbat=[],[],[]\n",
    "N,pausuak=32,10000\n",
    "iterak,Nmc=N*pausuak,N*pausuak\n",
    "for j in range(45):\n",
    "    kT=kT+0.1\n",
    "    spin,E,M=hasiera(N)\n",
    "    for i in range(iterak):\n",
    "        E,M,spin=metropolis2d(N,spin,kT,E,M)\n",
    "    E1,M1=0.,0.\n",
    "    for k in range(Nmc):\n",
    "        E,M,spin=metropolis2d(N,spin,kT,E,M)\n",
    "        E1,M1=E1+E,M1+M\n",
    "    E1,M1=E1/Nmc,M1/Nmc                                      #Batezbesteko kalkulatzen dugu\n",
    "    T.append(kT),Ebat.append(E1/N),Mbat.append(abs(M1)/N)\n",
    "    \n",
    "plt.figure()\n",
    "plt.plot(T,Ebat,'o')\n",
    "plt.xlabel('$kT/\\epsilon$')\n",
    "plt.ylabel(r'$\\langle E \\rangle /N\\epsilon$')\n",
    "plt.figure()\n",
    "plt.plot(T,Mbat,'o')\n",
    "plt.xlabel('$kT/\\epsilon$')\n",
    "plt.ylabel(r'$\\langle M \\rangle /N\\epsilon$')\n",
    "plt.show()"
   ]
  },
  {
   "cell_type": "markdown",
   "metadata": {},
   "source": [
    "**Programa :** Orekako eneriaren eta magnetizazioaren bateztebestekoak tenperatura desberdinetan."
   ]
  },
  {
   "cell_type": "markdown",
   "metadata": {},
   "source": [
    "Ikusten dugun modura energiak 1D-ko ereduaren konportamolde berdina dauka, baina magnetizazioa aldaketa bortitz bat dauka $T_k\\sim 2.2$ denean, honek esaten digu fase trantsizioa dugula. Hau da, spin guztiak zorizko norabidea daukate tenperatura kritikotik gora($T_k\\sim 2.2$) eta hortik behera guztiz ordenatuta daude.\n",
    "\n",
    "Gainera ikusi dezakegu ferromagnetikoen beste propietate bat, tenperatura kritikoa gainditu ondoren norabide berdina duten spinak elkarrekin geratzen dira multzoak eratuz eta tenperatura igotzean multzo hauen tamaina txikituz doa.\n",
    "Orain konparatu ditzakegu 1 eta 2 dimentsioko ereduak eta ulertu zergatik $1D$-ko ereduan ez dugun ikusi fase trantsizioa. Dimentsio bakarreko ereduan spinen kate osoari buelta eman ahal diogu energiarik eman gabe, tenperatura nulua ez den bitartean, kasu honetan spin guztien norabidea berdina baita.\n",
    "\n",
    "Bestalde bi dimentsioko ereduan ezin dugu hau egin sistemari energia eman gabe. Gure sistemak energia behar du domeinuen arteko indarra gainditzeko. Kontsidera dezagun zutabe bat, hau $1D$-ko ereduko katea da, baina honi ezin diogu buelta eman alboko zutabeen arteko elkarrenkintza dugulako.\n",
    "\n",
    "Azkenik, hurrengo programa interaktiboa eraikiko dugu:"
   ]
  },
  {
   "cell_type": "code",
   "execution_count": 10,
   "metadata": {
    "collapsed": true
   },
   "outputs": [],
   "source": [
    "import random as rnd\n",
    "import ivisual as vp\n",
    "import numpy as np\n",
    "import matplotlib.pyplot as plt\n",
    "from IPython.display import *\n",
    "from ipywidgets import interact, interactive, fixed, interact_manual\n",
    "from ipywidgets import *\n",
    "import ipywidgets as widgets\n",
    "from IPython.display import *\n",
    "from bqplot import *\n",
    "\n",
    "%matplotlib nbagg"
   ]
  },
  {
   "cell_type": "code",
   "execution_count": 11,
   "metadata": {
    "collapsed": true
   },
   "outputs": [],
   "source": [
    "def crear():\n",
    "    def hasiera(N):                                         #Gure spinen sarea eraiki\n",
    "        p,E,M=0.5,-0.6,0.\n",
    "        spin=np.zeros((N,N))\n",
    "        for i in range(0,N):\n",
    "            for j in range(0,N):\n",
    "                spin[i][j]=1\n",
    "                if (rnd.random()<p):\n",
    "                    spin[i][j]=-1\n",
    "                E=E-(spin[i-1][j]+spin[i][j-1]+spin[(i+1)%N][j]+spin[i][(j+1)%N])*spin[i][j]\n",
    "                M=M+spin[i][j]\n",
    "        return spin,E,M\n",
    "\n",
    "    def metropolis2d(N,spin,kT,E,M):\n",
    "        i,j,flip=rnd.randint(0,N-1),rnd.randint(0,N-1),0\n",
    "        dE=2*spin[i][j]*(spin[i-1][j]+spin[(i+1)%N][j]+spin[i][j-1]+spin[i][(j+1)%N])\n",
    "        if (dE<0.0):\n",
    "            flip=1\n",
    "        else:\n",
    "            p=np.exp(-dE/kT)\n",
    "            if (rnd.random()<p):\n",
    "                flip=1\n",
    "        if (flip==1):\n",
    "            E=E+dE\n",
    "            M=M-2*spin[i][j]\n",
    "            spin[i][j]=-spin[i][j]\n",
    "        return E,M,spin\n",
    "    N=10\n",
    "    kT=20.5\n",
    "    t=0\n",
    "    iterazio=100\n",
    "    \n",
    "    spin,E,M=hasiera(N)\n",
    "    irudia=np.zeros((N,N,101))\n",
    "    L=2.0\n",
    "    x=np.linspace(-5*L,5*L,N)\n",
    "    y=np.linspace(-5*L,5*L,N)\n",
    "    for i in range(0,N):\n",
    "        for j in range(0,N):\n",
    "            irudia[i][j][t]=spin[i][j]\n",
    "    for k in range(iterazio):\n",
    "        t=t+1\n",
    "        E,M,spin=metropolis2d(N,spin,kT,E,M)\n",
    "        for i in range(0,N):\n",
    "            for j in range(0,N):\n",
    "                irudia[i][j][t]=spin[i][j]\n",
    "\n",
    "    return irudia"
   ]
  },
  {
   "cell_type": "code",
   "execution_count": 12,
   "metadata": {
    "collapsed": true
   },
   "outputs": [],
   "source": [
    "tt=Tooltip(fields=['x','y'],labels=['x','y'])"
   ]
  },
  {
   "cell_type": "code",
   "execution_count": 13,
   "metadata": {
    "collapsed": true
   },
   "outputs": [],
   "source": [
    "irudia=crear()"
   ]
  },
  {
   "cell_type": "code",
   "execution_count": 14,
   "metadata": {
    "collapsed": true
   },
   "outputs": [],
   "source": [
    "t1=1\n",
    "L=2.0\n",
    "N=10\n",
    "x=np.linspace(-5*L,5*L,N)\n",
    "y=np.linspace(-5*L,5*L,N)\n",
    "\n",
    "sc_x = LinearScale()\n",
    "sc_y = LinearScale()\n",
    "ax_x = Axis(label='X', scale=sc_x)\n",
    "ax_y = Axis(label='Y', scale=sc_y, orientation='vertical', tick_format='0.2f')\n",
    "x_data1=[]\n",
    "y_data1=[]\n",
    "x_data2=[]\n",
    "y_data2=[]\n",
    "for i in range(N):\n",
    "    for j in range(N):\n",
    "        if (irudia[i][j][t1]==1.0):\n",
    "            x_data1.append(x[i])\n",
    "            y_data1.append(y[j])\n",
    "            #positivo=plt.plot(x[i],y[j],marker='^',color='m')\n",
    "        else:\n",
    "            x_data2.append(x[i])\n",
    "            y_data2.append(y[j])\n",
    "\n",
    "\n",
    "positivo=Scatter(x=x_data1, y=y_data1, scales={'x': sc_x, 'y': sc_y},animate=True, colors=['red'],tooltip=tt)  \n",
    "negativo=Scatter(x=x_data2, y=y_data2, scales={'x': sc_x, 'y': sc_y},animate=True, colors=['blue'],tooltip=tt)\n",
    "fig=Figure(marks=[positivo,negativo],axes=[ax_x, ax_y],title='Ising model 2D',animation_duration=10)"
   ]
  },
  {
   "cell_type": "code",
   "execution_count": 15,
   "metadata": {
    "collapsed": true
   },
   "outputs": [],
   "source": [
    "t1=widgets.IntSlider(min=1,max=100,step=1,value=1,description=\"denbora\")"
   ]
  },
  {
   "cell_type": "code",
   "execution_count": 16,
   "metadata": {
    "collapsed": true
   },
   "outputs": [],
   "source": [
    "def dibujo(t):\n",
    "    L=2.0\n",
    "    N=10\n",
    "    x=np.linspace(-5*L,5*L,N)\n",
    "    y=np.linspace(-5*L,5*L,N)\n",
    "\n",
    "    sc_y = LinearScale()\n",
    "    ax_x = Axis(label='X', scale=sc_x)\n",
    "    ax_y = Axis(label='Y', scale=sc_y, orientation='vertical', tick_format='0.2f')\n",
    "    x_data1=[]\n",
    "    y_data1=[]\n",
    "    x_data2=[]\n",
    "    y_data2=[]\n",
    "    for i in range(N):\n",
    "        for j in range(N):\n",
    "            if (irudia[i][j][t]==1.0):\n",
    "                x_data1.append(x[i])\n",
    "                y_data1.append(y[j])\n",
    "            else:\n",
    "                x_data2.append(x[i])\n",
    "                y_data2.append(y[j])\n",
    "\n",
    "    return x_data1,y_data1,x_data2,y_data2\n"
   ]
  },
  {
   "cell_type": "code",
   "execution_count": 17,
   "metadata": {
    "collapsed": true
   },
   "outputs": [],
   "source": [
    "def irudi_aldaketa(change):\n",
    "    positivo.x,positivo.y,negativo.x,negativo.y=dibujo(t1.value)\n",
    "\n",
    "t1.observe(irudi_aldaketa,'value')"
   ]
  },
  {
   "cell_type": "code",
   "execution_count": 19,
   "metadata": {},
   "outputs": [
    {
     "data": {
      "application/vnd.jupyter.widget-view+json": {
       "model_id": "b0d91048e52041c9be4231df4f4b4a66",
       "version_major": 2,
       "version_minor": 0
      },
      "text/plain": [
       "VBox(children=(HBox(children=(Play(value=1, description='Press play'), IntSlider(value=1, description='denbora…"
      ]
     },
     "metadata": {},
     "output_type": "display_data"
    }
   ],
   "source": [
    "\n",
    "play_button= Play(value=1,min=0,max=100,step=1,description=\"Press play\",disabled=False)\n",
    "jslink((play_button,'value'),(t1,'value'))\n",
    "VBox([HBox([play_button,t1]),fig])"
   ]
  }
 ],
 "metadata": {
  "kernelspec": {
   "display_name": "Python 3",
   "language": "python",
   "name": "python3"
  },
  "language_info": {
   "codemirror_mode": {
    "name": "ipython",
    "version": 3
   },
   "file_extension": ".py",
   "mimetype": "text/x-python",
   "name": "python",
   "nbconvert_exporter": "python",
   "pygments_lexer": "ipython3",
   "version": "3.6.1"
  }
 },
 "nbformat": 4,
 "nbformat_minor": 2
}
