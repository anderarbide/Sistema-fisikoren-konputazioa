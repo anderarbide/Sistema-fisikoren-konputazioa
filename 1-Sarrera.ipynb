{
 "cells": [
  {
   "cell_type": "markdown",
   "metadata": {},
   "source": [
    "# Sarrera\n",
    "\n",
    "Dakigun bezala zenbait sistema fisiko aztertzeko erabili ditzakegu $Newton$-en legeak, baina gure sistema partikula asko baditu ezin dugu metodo hau erabili, kasu horretan kalkulu estatistikoak erabili behar ditugu, hau gertatzen da sistema termodinamikoetan. Propietate termodinamiko makroskopikoak atomoen arteko interakzioak zehazten dituzte. Baina dakigun modura, deskribatu dezakegu sistema termiko txiki bat eta hortik propietate estatistikoak erabiliz sistema handi baten propietateak zehaztu.\n",
    "\n",
    "Gure analisia hasteko aztertuko dugu oreka termodinamikoa, zehaztuz nola eragiten duten entropia, tenperatura eta sistemen arteko energi trukea. Gero azalduko dugu $Metropolis$ algoritmoa eta aplikatuko dugu 1 eta 2 dimentsioko problemak aztertzeko, adibidez fase trantsizioak. Azkenik, ikertuko dugu N gorputzen problemaren termodinamika eta gasen teoriaren zinetika molekulen dinamika aztertuz.\n"
   ]
  }
 ],
 "metadata": {
  "kernelspec": {
   "display_name": "Python 3",
   "language": "python",
   "name": "python3"
  },
  "language_info": {
   "codemirror_mode": {
    "name": "ipython",
    "version": 3
   },
   "file_extension": ".py",
   "mimetype": "text/x-python",
   "name": "python",
   "nbconvert_exporter": "python",
   "pygments_lexer": "ipython3",
   "version": "3.6.1"
  }
 },
 "nbformat": 4,
 "nbformat_minor": 2
}
