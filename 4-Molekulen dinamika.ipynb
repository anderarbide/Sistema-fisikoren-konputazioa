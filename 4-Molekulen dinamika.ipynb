{
 "cells": [
  {
   "cell_type": "markdown",
   "metadata": {},
   "source": [
    "# Molekulen dinamika\n",
    "\n",
    "Atal honetan aztertuko dugu molekulen dinamika N gorputzen simulazio klasikoa eginez. Atomoen masa elektroien masa bainoz askoz handiagoa denez $Newton$-en legeak erabili ditzakegu beraien higidura ikertzeko tenperatura baxuetan. Gure helburua gasen zinetika eta propietate termikoak ikertzea da, horretarako atomo bakoitzaren higidura klasikoki aztertuko dugu eta gero lortuko ditugu propietate termikoak estatistikoki."
   ]
  },
  {
   "cell_type": "markdown",
   "metadata": {},
   "source": [
    "## Iterazio potentzialak\n",
    "\n",
    "Molekulen dinamika N-gorputzen problema bat bezala aztertu dezakegu, non higudura ekuazioak $Newton$-en ekuazioak diren, hau da:\n",
    "$$\\dfrac{\\vec{r_i}}{dt}=\\vec{v_i}$$\n",
    "$$\\dfrac{\\vec{v_i}}{dt}=\\dfrac{1}{m_i}\\sum\\limits_{j\\ne i}\\vec{f_{ij}}$$\n",
    "Non $\\vec{f_{ij}}$ $i$ eta $j$ molekulen arteko indarra den. Normalean hartzen ditugu partikula identikoz osatutako sistemak, beraz beraien masa $m_i=m$ berdina izango da guztientzako.\n",
    "Indar grabitazionala ez bezala naturan dauden potentzialak ezin dira idatzi zehazki, beraz normalean erabiltzen dira bi potentzial hurbilduak ala nola $Morse$ potentzaiala edo $Lennard-Jones$ potentziala. Guk gehien erabiliko dugun potentziala $Lennard-Jones$ potentziala izango da:\n",
    "$$V(r)=V_0 [(\\dfrac{r_0}{r})^{12}-2(\\dfrac{r_0}{r})^6]$$\n"
   ]
  },
  {
   "cell_type": "code",
   "execution_count": 1,
   "metadata": {
    "scrolled": true
   },
   "outputs": [
    {
     "data": {
      "image/png": "[encoded data removed]",
      "text/plain": [
       "<matplotlib.figure.Figure at 0x5dd3730>"
      ]
     },
     "metadata": {},
     "output_type": "display_data"
    }
   ],
   "source": [
    "import matplotlib.pyplot as plt\n",
    "import numpy as np\n",
    "\n",
    "r=np.linspace(0.85,3.0,10000)\n",
    "V=(1.0/r)**12-2.0*(1.0/r)**6\n",
    "plt.figure()\n",
    "plt.plot(r,V)\n",
    "plt.xlabel('$r/r_0$')\n",
    "plt.ylabel('$V/V_0$')\n",
    "plt.show()"
   ]
  },
  {
   "cell_type": "markdown",
   "metadata": {},
   "source": [
    "**Programa :** Lennard-Jones potentziala."
   ]
  },
  {
   "cell_type": "markdown",
   "metadata": {},
   "source": [
    "Non irudian ikusi dezakegun bezala $V_0$ konstante positibo bat den eta $r_0$ oreka distantzia den. Lehenengo $1/r^12$ terminoa elektroien arteko alderatze indarra deskribatzen du(Coulomb-en indarra eta Pauli esclusio printzipioa), bigarren terminoa $1/r^6$ distantzia handiko dipolo-dipolo elkartze indarra deskribatzen du(van der Waals indarra). Hau edukita $i.$ atomoak jasatzen duen indarra $j.$ atomoak eragindakoa kalkulatu dezakegu gradientea kalkulatuz:\n",
    "$$\\vec{f_{ij}}=-\\Delta V=12 \\dfrac{V_0}{r_0} [(\\dfrac{r_0}{r_{ij}})^6-1](\\dfrac{r_0}{r_{ij}})^8\\dfrac{\\vec{r_{ij}}}{r_0}$$\n",
    "Non $\\vec{r_{ij}}=\\vec{r_{i}}-\\vec{r_{j}}$ $i$ eta $j$ atomoen arteko posizio erlatiboa den eta $r_{ij}=\\left |\\vec{r_{i}}-\\vec{r_{j}} \\right |$ bekoteraren modulua den. Behin hau dugula higidura ekuazioak ebatzi ditzakegu. Aurrera jarraitu baino lehen erabiliko ditugun unitateak definituko ditugu, egingo dugun aukeraketarekin lortuko ditugun emaitzak unibertsalak izango dira, masaren eta $LJ$ potentzialaren parametroen funtzioan egongo direlako:"
   ]
  },
  {
   "cell_type": "markdown",
   "metadata": {},
   "source": [
    "|energia|luzera|masa|denbora|abiadura|indarra   \n",
    "-|-|-|-|-|-|\n",
    "Unitateak|$V_0$|$r_0$|m|$r_0(m/V_0)^{1/2}$|$(V_0/m)^{1/2}$|$m/r_0$"
   ]
  },
  {
   "cell_type": "markdown",
   "metadata": {},
   "source": [
    "**Taula 1 :** Erabiliko ditugun untitateak."
   ]
  },
  {
   "cell_type": "markdown",
   "metadata": {},
   "source": [
    "## Muga baldintza periodikoak\n",
    "\n",
    "Molekulen dinamikaren simulazioa egin aurretik muga baldintza egokiak aukeratu behar ditugu. Aurreko ataletan bezala muga baldintza periodikoak aukeratu ditzakegu, gure sistemaren kopia birtualak eratuz honen inguruan. Modu honetan edozein partikularentzako edukiko dugu beste bat posizio erlatibo berekin eta abiadura berdinarekin. Aukeraketa hau egiten badugu, partikula bat gure sistematik irtetzen bada beste bat sartuko da. Baina honekin arazo bat daukagu, partikula bat gure sistematik ateratzen denean eta beste bat sartzean sisteman dauden beste partikulek pairatzen duten energia potentziala aldatzen da asko,$r\\to r'$ aldaketa gertatzen baita $r'<r$ izanik. Honek sortzen du jauzi bat potentzialean eta indarrean. Honek eragingo duena da gure sistema hustuko dela.\n",
    "\n",
    "Baina, partikula batetik bestera dagoen distatzia $r$ bada eta bere partikula birtualara dagoen distantzia $r'$ bada, beti aukaretzen badugu bi hauen arteko txikiena, indarran dagoen etena ekidituko dugu. Hau da, beti aukeratu behar dugu distantziarik txikiena $x-x_r$ eta $x-x_{r'}$ artean. Fisikoki esan nahi duena da, partikula batek beti aukeratzen duela bere posiziotik hurbilen dagoena, erreala edo kopia birtuala izan. Honi ondoko-hurbilen elkarrekintza deituko diogu.\n",
    "\n",
    "Hau eginda erraz ikusi dezakegu bi partikulen arteko distantziarik handiena sistemaren luzeraren erdia izango dela. Beraz $L$ sistemaren luzera(x ardatzean) izanda eta $\\Delta =x_1-x_2$ izanda, $ \\left | \\Delta x \\right |\\le 1/2L$ bada distantzia hau onartuko dugu, baina ez bada betetzen ondorengo aldaketa egin behar dugu:\n",
    "$$\\Delta x \\to \\left\\{ \\begin{array}{c} \\Delta x -L&,&\\Delta x>\\dfrac{1}{2}L \\\\ \\Delta x +L&,&\\Delta x<\\dfrac{1}{2}L \\end{array}\\right. $$\n",
    "Berdina egingo dugu y eta z norabideekin. Hauek izango dira gure muga baldintza periodikoak."
   ]
  },
  {
   "cell_type": "markdown",
   "metadata": {},
   "source": [
    "# Simulazioak\n",
    "\n",
    "Behin muga baldintzak ditugula gure sistemaren dinamika simulatzen duen programa idatzi dezakegu:"
   ]
  },
  {
   "cell_type": "code",
   "execution_count": null,
   "metadata": {},
   "outputs": [
    {
     "data": {
      "text/html": [
       "<div id=\"scene0\"><div id=\"glowscript\" class=\"glowscript\"></div></div>"
      ],
      "text/plain": [
       "<IPython.core.display.HTML object>"
      ]
     },
     "metadata": {},
     "output_type": "display_data"
    },
    {
     "data": {
      "application/javascript": [
       "require.undef(\"nbextensions/glow.1.0.min\");"
      ],
      "text/plain": [
       "<IPython.core.display.Javascript object>"
      ]
     },
     "metadata": {},
     "output_type": "display_data"
    },
    {
     "data": {
      "application/javascript": [
       "require.undef(\"nbextensions/jquery-ui.custom.min\");"
      ],
      "text/plain": [
       "<IPython.core.display.Javascript object>"
      ]
     },
     "metadata": {},
     "output_type": "display_data"
    },
    {
     "data": {
      "application/javascript": [
       "require.undef(\"nbextensions/glow.1.1.min\");"
      ],
      "text/plain": [
       "<IPython.core.display.Javascript object>"
      ]
     },
     "metadata": {},
     "output_type": "display_data"
    },
    {
     "data": {
      "application/javascript": [
       "require.undef(\"nbextensions/glow.1.2.min\");"
      ],
      "text/plain": [
       "<IPython.core.display.Javascript object>"
      ]
     },
     "metadata": {},
     "output_type": "display_data"
    },
    {
     "data": {
      "application/javascript": [
       "require.undef(\"nbextensions/glow.2.0.min\");"
      ],
      "text/plain": [
       "<IPython.core.display.Javascript object>"
      ]
     },
     "metadata": {},
     "output_type": "display_data"
    },
    {
     "data": {
      "application/javascript": [
       "require.undef(\"nbextensions/glowcomm\");"
      ],
      "text/plain": [
       "<IPython.core.display.Javascript object>"
      ]
     },
     "metadata": {},
     "output_type": "display_data"
    },
    {
     "data": {
      "application/javascript": [
       "require.undef(\"nbextensions/ivglowcomm\");"
      ],
      "text/plain": [
       "<IPython.core.display.Javascript object>"
      ]
     },
     "metadata": {},
     "output_type": "display_data"
    },
    {
     "data": {
      "application/javascript": [
       "require([\"nbextensions/ivglowcomm\"], function(){console.log(\"ivisual glowcomm loaded\");})"
      ],
      "text/plain": [
       "<IPython.core.display.Javascript object>"
      ]
     },
     "metadata": {},
     "output_type": "display_data"
    }
   ],
   "source": [
    "import ode\n",
    "import random as rnd\n",
    "import numpy as np,ivisual as vp\n",
    "\n",
    "def ngorputz(id,r,v,t):\n",
    "    if (id==0):\n",
    "        return v\n",
    "    a=np.zeros((N,3))\n",
    "    for i in range(N):\n",
    "        rij=r[i]-r[i+1:]\n",
    "        rij[rij>HL]-=L\n",
    "        rij[rij<-HL]+=L\n",
    "        r2=np.sum(rij*rij,axis=1)\n",
    "        r6=r2*r2*r2\n",
    "        for k in [0,1,2]:\n",
    "            fij=12.*(1.-r6)*rij[:,k]/(r6*r6*r2)\n",
    "            a[i,k]+=np.sum(fij)\n",
    "            a[i+1:,k]\n",
    "    return a\n",
    "\n",
    "L,N=10.0,32\n",
    "atoms,HL,t,h=[],L/2.,0.,0.002\n",
    "r,v=np.zeros((N,3)),np.zeros((N,3))\n",
    "\n",
    "scene=vp.display(background=(.2,.5,1),center=(L/2,L/3,L/2))\n",
    "vp.box(pos=(HL,HL,HL),length=L,height=L,width=L,opacity=0.3)\n",
    "for i in range(N):\n",
    "    for k in range(3):\n",
    "        r[i,k]=L*rnd.random()\n",
    "        v[i,k]=1-2*rnd.random()\n",
    "    if (i==3):\n",
    "        atoms.append(vp.sphere(pos=r[i],radius=0.04*L,color=(1,1,1)))\n",
    "    else:\n",
    "        atoms.append(vp.sphere(pos=r[i],radius=0.04*L,color=(1,0,1)))\n",
    "\n",
    "v-=np.sum(v,axis=0)/N\n",
    "\n",
    "while True:\n",
    "    vp.rate(1000)\n",
    "    r,v=ode.leapfrog(ngorputz,r,v,t,h)\n",
    "    r[r>L]-=L\n",
    "    r[r<0.]+=L\n",
    "    for i in range(N):\n",
    "        atoms[i].pos=r[i]"
   ]
  },
  {
   "cell_type": "markdown",
   "metadata": {},
   "source": [
    "**Programa :** N gorputzen dinamika."
   ]
  },
  {
   "cell_type": "markdown",
   "metadata": {},
   "source": [
    "Behin hau dugula, programa hau aldatu dezakegu gure partikulen sistemaren abiaduren diagrama irudikatzeko. Hau egitean ikusten dugu nola $Boltzman$-en distribuzioarekin bat datorren, teoriak aurresaten duen modura. Bestalde hemendik atera dezakegu sistemaren tenperatura, gogoratuz honelako sistemetan hurrengoa dugula:\n",
    "$$\\dfrac{1}{2}m\\langle v^2\\rangle=\\dfrac{3}{2}kT$$\n",
    "au egiten badugu ondorengo emaitza lortzen dugu:"
   ]
  },
  {
   "cell_type": "code",
   "execution_count": 4,
   "metadata": {},
   "outputs": [
    {
     "data": {
      "image/png": "[encoded data removed]",
      "text/plain": [
       "<matplotlib.figure.Figure at 0x67cc270>"
      ]
     },
     "metadata": {},
     "output_type": "display_data"
    }
   ],
   "source": [
    "import ode\n",
    "import random as rnd\n",
    "import numpy as np\n",
    "import matplotlib.pyplot as plt\n",
    "\n",
    "def ngorputz(id,r,v,t):\n",
    "    if (id==0):\n",
    "        return v\n",
    "    a=np.zeros((N,3))\n",
    "    for i in range(N):\n",
    "        rij=r[i]-r[i+1:]\n",
    "        rij[rij>HL]-=L\n",
    "        rij[rij<-HL]+=L\n",
    "        r2=np.sum(rij*rij,axis=1)\n",
    "        r6=r2*r2*r2\n",
    "        for k in [0,1,2]:\n",
    "            fij=12.*(1.-r6)*rij[:,k]/(r6*r6*r2)\n",
    "            a[i,k]+=np.sum(fij)\n",
    "            a[i+1:,k]\n",
    "    return a\n",
    "\n",
    "L,N=10.0,32\n",
    "atoms,HL,t,h=[],L/2.,0.,0.002\n",
    "r,v=np.zeros((N,3)),np.zeros((N,3))\n",
    "fig=plt.figure()\n",
    "\n",
    "for i in range(N):\n",
    "    for k in range(3):\n",
    "        r[i,k]=L*rnd.random()\n",
    "        v[i,k]=1-2*rnd.random()\n",
    "        \n",
    "\n",
    "v-=np.sum(v,axis=0)/N\n",
    "\n",
    "for k in range(400):\n",
    "    #hacer desde t=0 a t=400*h\n",
    "    r,v=ode.leapfrog(ngorputz,r,v,t,h)\n",
    "    r[r>L]-=L\n",
    "    r[r<0.]+=L\n",
    "    if (k==5):\n",
    "        v2=np.sum(v*v,axis=1)\n",
    "        speed=np.sqrt(v2)\n",
    "        speedbin=np.histogram(speed,bins=50,range=(0,4))\n",
    "\n",
    "        x=[]\n",
    "        for i in range(50):\n",
    "            x.append(speedbin[1][i])\n",
    "        plt.scatter(x,speedbin[0]/10,marker='v',color='m',label=k)\n",
    "    if (k==200):\n",
    "        v2=np.sum(v*v,axis=1)\n",
    "        speed=np.sqrt(v2)\n",
    "        speedbin=np.histogram(speed,bins=50,range=(0,4))\n",
    "\n",
    "        x=[]\n",
    "        for i in range(50):\n",
    "            x.append(speedbin[1][i])\n",
    "        plt.scatter(x,speedbin[0]/10,marker='D',color='c',label=k)\n",
    "    if (k==390):\n",
    "        v2=np.sum(v*v,axis=1)\n",
    "        speed=np.sqrt(v2)\n",
    "        speedbin=np.histogram(speed,bins=50,range=(0,4))\n",
    "\n",
    "        x=[]\n",
    "        for i in range(50):\n",
    "            x.append(speedbin[1][i])\n",
    "        plt.scatter(x,speedbin[0]/10,marker='+',color='g',label=k)\n",
    "    x=0.0\n",
    "\n",
    "vteo=np.linspace(0.,4.0,100)    \n",
    "norm=4.0*np.pi*(1.0/(1.24*np.pi))**1.5\n",
    "plt.plot(vteo,norm*vteo*vteo*np.exp(-vteo*vteo/1.24),label='Teorikoa')\n",
    "ax=fig.add_subplot(111)\n",
    "ax.legend(loc='upper right')\n",
    "ax.set_xlabel('v')\n",
    "ax.set_ylabel('P(v)')\n",
    "plt.show()"
   ]
  },
  {
   "cell_type": "markdown",
   "metadata": {},
   "source": [
    "Hemendik lehen esan dugun modura gure sistemaren tenperatura lortu dezakegu $m=1.0$ hartuz:"
   ]
  },
  {
   "cell_type": "code",
   "execution_count": 5,
   "metadata": {},
   "outputs": [
    {
     "name": "stdout",
     "output_type": "stream",
     "text": [
      "2035481885.81\n"
     ]
    }
   ],
   "source": [
    "vbat=np.mean(speed)\n",
    "print(vbat/3.0)"
   ]
  },
  {
   "cell_type": "markdown",
   "metadata": {},
   "source": [
    "$$\\langle v^2\\rangle\\simeq 103.41m^2/s^2\\Rightarrow kT\\simeq 0.62 J$$"
   ]
  }
 ],
 "metadata": {
  "kernelspec": {
   "display_name": "Python 3",
   "language": "python",
   "name": "python3"
  },
  "language_info": {
   "codemirror_mode": {
    "name": "ipython",
    "version": 3
   },
   "file_extension": ".py",
   "mimetype": "text/x-python",
   "name": "python",
   "nbconvert_exporter": "python",
   "pygments_lexer": "ipython3",
   "version": "3.6.1"
  }
 },
 "nbformat": 4,
 "nbformat_minor": 2
}
